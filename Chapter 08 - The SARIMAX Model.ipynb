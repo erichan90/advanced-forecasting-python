{
 "cells": [
  {
   "cell_type": "markdown",
   "id": "worthy-qualification",
   "metadata": {},
   "source": [
    "# Chapter 8 - The SARIMAX Model"
   ]
  },
  {
   "cell_type": "markdown",
   "id": "provincial-browse",
   "metadata": {},
   "source": [
    "## Listing 8-1. Preparing the data and making a plot"
   ]
  },
  {
   "cell_type": "code",
   "execution_count": 3,
   "id": "analyzed-proceeding",
   "metadata": {},
   "outputs": [
    {
     "data": {
      "text/html": [
       "<div>\n",
       "<style scoped>\n",
       "    .dataframe tbody tr th:only-of-type {\n",
       "        vertical-align: middle;\n",
       "    }\n",
       "\n",
       "    .dataframe tbody tr th {\n",
       "        vertical-align: top;\n",
       "    }\n",
       "\n",
       "    .dataframe thead th {\n",
       "        text-align: right;\n",
       "    }\n",
       "</style>\n",
       "<table border=\"1\" class=\"dataframe\">\n",
       "  <thead>\n",
       "    <tr style=\"text-align: right;\">\n",
       "      <th></th>\n",
       "      <th>999</th>\n",
       "      <th>5</th>\n",
       "      <th>Friday</th>\n",
       "      <th>68113152929</th>\n",
       "      <th>-1</th>\n",
       "      <th>FINANCIAL SERVICES</th>\n",
       "      <th>1000</th>\n",
       "    </tr>\n",
       "  </thead>\n",
       "  <tbody>\n",
       "    <tr>\n",
       "      <th>0</th>\n",
       "      <td>30</td>\n",
       "      <td>7</td>\n",
       "      <td>Friday</td>\n",
       "      <td>6.053882e+10</td>\n",
       "      <td>1</td>\n",
       "      <td>SHOES</td>\n",
       "      <td>8931.0</td>\n",
       "    </tr>\n",
       "    <tr>\n",
       "      <th>1</th>\n",
       "      <td>30</td>\n",
       "      <td>7</td>\n",
       "      <td>Friday</td>\n",
       "      <td>7.410811e+09</td>\n",
       "      <td>1</td>\n",
       "      <td>PERSONAL CARE</td>\n",
       "      <td>4504.0</td>\n",
       "    </tr>\n",
       "    <tr>\n",
       "      <th>2</th>\n",
       "      <td>26</td>\n",
       "      <td>8</td>\n",
       "      <td>Friday</td>\n",
       "      <td>2.238404e+09</td>\n",
       "      <td>2</td>\n",
       "      <td>PAINT AND ACCESSORIES</td>\n",
       "      <td>3565.0</td>\n",
       "    </tr>\n",
       "    <tr>\n",
       "      <th>3</th>\n",
       "      <td>26</td>\n",
       "      <td>8</td>\n",
       "      <td>Friday</td>\n",
       "      <td>2.006614e+09</td>\n",
       "      <td>2</td>\n",
       "      <td>PAINT AND ACCESSORIES</td>\n",
       "      <td>1017.0</td>\n",
       "    </tr>\n",
       "    <tr>\n",
       "      <th>4</th>\n",
       "      <td>26</td>\n",
       "      <td>8</td>\n",
       "      <td>Friday</td>\n",
       "      <td>2.006619e+09</td>\n",
       "      <td>2</td>\n",
       "      <td>PAINT AND ACCESSORIES</td>\n",
       "      <td>1017.0</td>\n",
       "    </tr>\n",
       "  </tbody>\n",
       "</table>\n",
       "</div>"
      ],
      "text/plain": [
       "   999  5  Friday   68113152929  -1     FINANCIAL SERVICES    1000\n",
       "0   30  7  Friday  6.053882e+10   1                  SHOES  8931.0\n",
       "1   30  7  Friday  7.410811e+09   1          PERSONAL CARE  4504.0\n",
       "2   26  8  Friday  2.238404e+09   2  PAINT AND ACCESSORIES  3565.0\n",
       "3   26  8  Friday  2.006614e+09   2  PAINT AND ACCESSORIES  1017.0\n",
       "4   26  8  Friday  2.006619e+09   2  PAINT AND ACCESSORIES  1017.0"
      ]
     },
     "execution_count": 3,
     "metadata": {},
     "output_type": "execute_result"
    }
   ],
   "source": [
    "import pandas as pd\n",
    "import matplotlib.pyplot as plt\n",
    "data = pd.read_csv('https://raw.githubusercontent.com/devarajphukan/Kaggle-Walmart/master/train.csv')\n",
    "\n",
    "data.head()"
   ]
  },
  {
   "cell_type": "code",
   "execution_count": null,
   "id": "08b326a5-b4c8-4a05-a6f3-a40c4ab7f4c2",
   "metadata": {},
   "outputs": [],
   "source": [
    "data = data.groupby('Date').sum()\n",
    "data['IsHoliday'] = data['IsHoliday'] > 0\n",
    "data['IsHoliday'] = data['IsHoliday'].apply(\n",
    "    lambda x: float(x)\n",
    ")\n",
    "\n",
    "ax = data['Weekly_Sales'].plot()\n",
    "ax.set_ylabel('Weekly Sales')\n",
    "plt.gcf().autofmt_xdate()\n",
    "plt.show()"
   ]
  },
  {
   "cell_type": "markdown",
   "id": "animal-china",
   "metadata": {},
   "source": [
    "## Listing 8-2 Is there a correlation between sales and holidays?"
   ]
  },
  {
   "cell_type": "code",
   "execution_count": null,
   "id": "forbidden-austria",
   "metadata": {},
   "outputs": [],
   "source": [
    "data[['Weekly_Sales', 'IsHoliday']].corr()"
   ]
  },
  {
   "cell_type": "markdown",
   "id": "israeli-hammer",
   "metadata": {},
   "source": [
    "## Listing 8-3 Fitting a SARIMAX model "
   ]
  },
  {
   "cell_type": "code",
   "execution_count": null,
   "id": "baking-archive",
   "metadata": {},
   "outputs": [],
   "source": [
    "import random\n",
    "random.seed(12345)\n",
    "import statsmodels.api as sm\n",
    "from sklearn.metrics import r2_score\n",
    "\n",
    "train = data['Weekly_Sales'][:-10]\n",
    "test = data['Weekly_Sales'][-10:]\n",
    "\n",
    "mod = sm.tsa.statespace.SARIMAX(\n",
    "    endog=data['Weekly_Sales'][:-10],\n",
    "    exog=data['IsHoliday'][:-10],\n",
    "    order=(0,1,1),\n",
    "    seasonal_order=(1,1,1,52),\n",
    ")\n",
    "res = mod.fit(disp=False)\n",
    "fcst = res.forecast(steps=10, exog = data['IsHoliday'][-10:])\n",
    "\n",
    "plt.plot(list(test))\n",
    "plt.plot(list(fcst))\n",
    "plt.xlabel('Steps of the test data')\n",
    "plt.ylabel('Weekly Sales')\n",
    "plt.legend(['test', 'forecast'])\n",
    "plt.show()\n",
    "r2_score(test, fcst)\n"
   ]
  }
 ],
 "metadata": {
  "kernelspec": {
   "display_name": "Python 3 (ipykernel)",
   "language": "python",
   "name": "python3"
  },
  "language_info": {
   "codemirror_mode": {
    "name": "ipython",
    "version": 3
   },
   "file_extension": ".py",
   "mimetype": "text/x-python",
   "name": "python",
   "nbconvert_exporter": "python",
   "pygments_lexer": "ipython3",
   "version": "3.9.7"
  }
 },
 "nbformat": 4,
 "nbformat_minor": 5
}
