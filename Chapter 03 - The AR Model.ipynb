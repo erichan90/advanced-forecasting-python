{
 "cells": [
  {
   "cell_type": "markdown",
   "id": "fifty-roberts",
   "metadata": {},
   "source": [
    "# The AR Model"
   ]
  },
  {
   "cell_type": "code",
   "execution_count": 10,
   "id": "98c0820e-7139-4e8e-a173-8c85fd773c3c",
   "metadata": {},
   "outputs": [
    {
     "name": "stdout",
     "output_type": "stream",
     "text": [
      "The watermark extension is already loaded. To reload it, use:\n",
      "  %reload_ext watermark\n",
      "Author: Xu Han\n",
      "\n",
      "Last updated: 2022-05-25\n",
      "\n",
      "Python implementation: CPython\n",
      "Python version       : 3.9.7\n",
      "IPython version      : 7.29.0\n",
      "\n",
      "numpy           : 1.21.4\n",
      "pandas          : 1.4.2\n",
      "matplotlib      : 3.4.3\n",
      "scipy           : 1.7.1\n",
      "sklearn         : 0.0\n",
      "MarkupSafe      : not installed\n",
      "pandas-profiling: not installed\n",
      "\n"
     ]
    }
   ],
   "source": [
    "%load_ext watermark\n",
    "%watermark -a \"Xu Han\" -u -d -v -p numpy,pandas,matplotlib,scipy,sklearn,MarkupSafe,pandas-profiling"
   ]
  },
  {
   "cell_type": "code",
   "execution_count": 8,
   "id": "282f94a6-cb10-4089-8bd3-7d5fb2345250",
   "metadata": {},
   "outputs": [
    {
     "name": "stdout",
     "output_type": "stream",
     "text": [
      "Requirement already satisfied: pandas-profiling in c:\\users\\hansh\\anaconda3\\lib\\site-packages (3.2.0)\n",
      "Collecting markupsafe~=2.1.1\n",
      "  Using cached MarkupSafe-2.1.1-cp39-cp39-win_amd64.whl (17 kB)\n",
      "Requirement already satisfied: scipy>=1.4.1 in c:\\users\\hansh\\anaconda3\\lib\\site-packages (from pandas-profiling) (1.7.1)\n",
      "Requirement already satisfied: matplotlib>=3.2.0 in c:\\users\\hansh\\anaconda3\\lib\\site-packages (from pandas-profiling) (3.5.2)\n",
      "Requirement already satisfied: pydantic>=1.8.1 in c:\\users\\hansh\\anaconda3\\lib\\site-packages (from pandas-profiling) (1.9.1)\n",
      "Requirement already satisfied: phik>=0.11.1 in c:\\users\\hansh\\anaconda3\\lib\\site-packages (from pandas-profiling) (0.12.2)\n",
      "Requirement already satisfied: visions[type_image_path]==0.7.4 in c:\\users\\hansh\\anaconda3\\lib\\site-packages (from pandas-profiling) (0.7.4)\n",
      "Requirement already satisfied: missingno>=0.4.2 in c:\\users\\hansh\\anaconda3\\lib\\site-packages (from pandas-profiling) (0.5.1)\n",
      "Requirement already satisfied: htmlmin>=0.1.12 in c:\\users\\hansh\\anaconda3\\lib\\site-packages (from pandas-profiling) (0.1.12)\n",
      "Requirement already satisfied: pandas!=1.0.0,!=1.0.1,!=1.0.2,!=1.1.0,>=0.25.3 in c:\\users\\hansh\\anaconda3\\lib\\site-packages (from pandas-profiling) (1.4.2)\n",
      "Requirement already satisfied: requests>=2.24.0 in c:\\users\\hansh\\appdata\\roaming\\python\\python39\\site-packages (from pandas-profiling) (2.25.1)\n",
      "Requirement already satisfied: multimethod>=1.4 in c:\\users\\hansh\\anaconda3\\lib\\site-packages (from pandas-profiling) (1.8)\n",
      "Requirement already satisfied: seaborn>=0.10.1 in c:\\users\\hansh\\anaconda3\\lib\\site-packages (from pandas-profiling) (0.11.2)\n",
      "Requirement already satisfied: tangled-up-in-unicode==0.2.0 in c:\\users\\hansh\\anaconda3\\lib\\site-packages (from pandas-profiling) (0.2.0)\n",
      "Requirement already satisfied: jinja2>=2.11.1 in c:\\users\\hansh\\anaconda3\\lib\\site-packages (from pandas-profiling) (2.11.3)\n",
      "Requirement already satisfied: tqdm>=4.48.2 in c:\\users\\hansh\\anaconda3\\lib\\site-packages (from pandas-profiling) (4.62.3)\n",
      "Requirement already satisfied: PyYAML>=5.0.0 in c:\\users\\hansh\\appdata\\roaming\\python\\python39\\site-packages (from pandas-profiling) (5.4.1)\n",
      "Requirement already satisfied: joblib~=1.1.0 in c:\\users\\hansh\\anaconda3\\lib\\site-packages (from pandas-profiling) (1.1.0)\n",
      "Requirement already satisfied: numpy>=1.16.0 in c:\\users\\hansh\\anaconda3\\lib\\site-packages (from pandas-profiling) (1.21.5)\n",
      "Requirement already satisfied: networkx>=2.4 in c:\\users\\hansh\\anaconda3\\lib\\site-packages (from visions[type_image_path]==0.7.4->pandas-profiling) (2.6.3)\n",
      "Requirement already satisfied: attrs>=19.3.0 in c:\\users\\hansh\\anaconda3\\lib\\site-packages (from visions[type_image_path]==0.7.4->pandas-profiling) (21.2.0)\n",
      "Requirement already satisfied: imagehash in c:\\users\\hansh\\anaconda3\\lib\\site-packages (from visions[type_image_path]==0.7.4->pandas-profiling) (4.2.1)\n",
      "Requirement already satisfied: Pillow in c:\\users\\hansh\\anaconda3\\lib\\site-packages (from visions[type_image_path]==0.7.4->pandas-profiling) (8.4.0)\n",
      "Requirement already satisfied: fonttools>=4.22.0 in c:\\users\\hansh\\anaconda3\\lib\\site-packages (from matplotlib>=3.2.0->pandas-profiling) (4.25.0)\n",
      "Requirement already satisfied: kiwisolver>=1.0.1 in c:\\users\\hansh\\anaconda3\\lib\\site-packages (from matplotlib>=3.2.0->pandas-profiling) (1.3.1)\n",
      "Requirement already satisfied: pyparsing>=2.2.1 in c:\\users\\hansh\\anaconda3\\lib\\site-packages (from matplotlib>=3.2.0->pandas-profiling) (3.0.4)\n",
      "Requirement already satisfied: packaging>=20.0 in c:\\users\\hansh\\anaconda3\\lib\\site-packages (from matplotlib>=3.2.0->pandas-profiling) (21.0)\n",
      "Requirement already satisfied: python-dateutil>=2.7 in c:\\users\\hansh\\anaconda3\\lib\\site-packages (from matplotlib>=3.2.0->pandas-profiling) (2.8.2)\n",
      "Requirement already satisfied: cycler>=0.10 in c:\\users\\hansh\\anaconda3\\lib\\site-packages (from matplotlib>=3.2.0->pandas-profiling) (0.10.0)\n",
      "Requirement already satisfied: six in c:\\users\\hansh\\anaconda3\\lib\\site-packages (from cycler>=0.10->matplotlib>=3.2.0->pandas-profiling) (1.16.0)\n",
      "Requirement already satisfied: pytz>=2020.1 in c:\\users\\hansh\\anaconda3\\lib\\site-packages (from pandas!=1.0.0,!=1.0.1,!=1.0.2,!=1.1.0,>=0.25.3->pandas-profiling) (2021.3)\n",
      "Requirement already satisfied: typing-extensions>=3.7.4.3 in c:\\users\\hansh\\appdata\\roaming\\python\\python39\\site-packages (from pydantic>=1.8.1->pandas-profiling) (3.10.0.0)\n",
      "Requirement already satisfied: certifi>=2017.4.17 in c:\\users\\hansh\\anaconda3\\lib\\site-packages (from requests>=2.24.0->pandas-profiling) (2022.5.18.1)\n",
      "Requirement already satisfied: idna<3,>=2.5 in c:\\users\\hansh\\appdata\\roaming\\python\\python39\\site-packages (from requests>=2.24.0->pandas-profiling) (2.10)\n",
      "Requirement already satisfied: chardet<5,>=3.0.2 in c:\\users\\hansh\\anaconda3\\lib\\site-packages (from requests>=2.24.0->pandas-profiling) (4.0.0)\n",
      "Requirement already satisfied: urllib3<1.27,>=1.21.1 in c:\\users\\hansh\\anaconda3\\lib\\site-packages (from requests>=2.24.0->pandas-profiling) (1.26.7)\n",
      "Requirement already satisfied: colorama in c:\\users\\hansh\\anaconda3\\lib\\site-packages (from tqdm>=4.48.2->pandas-profiling) (0.4.4)\n",
      "Requirement already satisfied: PyWavelets in c:\\users\\hansh\\anaconda3\\lib\\site-packages (from imagehash->visions[type_image_path]==0.7.4->pandas-profiling) (1.1.1)\n",
      "Installing collected packages: markupsafe\n",
      "  Attempting uninstall: markupsafe\n",
      "    Found existing installation: MarkupSafe 2.0.1\n",
      "    Uninstalling MarkupSafe-2.0.1:\n",
      "      Successfully uninstalled MarkupSafe-2.0.1\n",
      "Successfully installed markupsafe-2.1.1\n"
     ]
    },
    {
     "name": "stderr",
     "output_type": "stream",
     "text": [
      "ERROR: pip's dependency resolver does not currently take into account all the packages that are installed. This behaviour is the source of the following dependency conflicts.\n",
      "anaconda-project 0.10.1 requires ruamel-yaml, which is not installed.\n",
      "aws-sam-cli 1.50.0 requires MarkupSafe==2.0.1, but you have markupsafe 2.1.1 which is incompatible.\n"
     ]
    },
    {
     "name": "stdout",
     "output_type": "stream",
     "text": [
      "Requirement already satisfied: MarkupSafe==2.1.1 in c:\\users\\hansh\\anaconda3\\lib\\site-packages (2.1.1)\n",
      "Requirement already satisfied: aws-sam-cli in c:\\users\\hansh\\appdata\\roaming\\python\\python39\\site-packages (1.50.0)\n",
      "Requirement already satisfied: cookiecutter~=1.7.2 in c:\\users\\hansh\\appdata\\roaming\\python\\python39\\site-packages (from aws-sam-cli) (1.7.3)\n",
      "Collecting MarkupSafe==2.0.1\n",
      "  Using cached MarkupSafe-2.0.1-cp39-cp39-win_amd64.whl (14 kB)\n",
      "Requirement already satisfied: boto3==1.*,>=1.19.5 in c:\\users\\hansh\\appdata\\roaming\\python\\python39\\site-packages (from aws-sam-cli) (1.23.7)\n",
      "Requirement already satisfied: tzlocal==3.0 in c:\\users\\hansh\\appdata\\roaming\\python\\python39\\site-packages (from aws-sam-cli) (3.0)\n",
      "Requirement already satisfied: chevron~=0.12 in c:\\users\\hansh\\appdata\\roaming\\python\\python39\\site-packages (from aws-sam-cli) (0.14.0)\n",
      "Requirement already satisfied: dateparser~=1.0 in c:\\users\\hansh\\appdata\\roaming\\python\\python39\\site-packages (from aws-sam-cli) (1.1.1)\n",
      "Requirement already satisfied: aws-lambda-builders==1.16.0 in c:\\users\\hansh\\appdata\\roaming\\python\\python39\\site-packages (from aws-sam-cli) (1.16.0)\n",
      "Requirement already satisfied: regex==2021.9.30 in c:\\users\\hansh\\appdata\\roaming\\python\\python39\\site-packages (from aws-sam-cli) (2021.9.30)\n",
      "Requirement already satisfied: Flask~=1.1.2 in c:\\users\\hansh\\anaconda3\\lib\\site-packages (from aws-sam-cli) (1.1.2)\n",
      "Requirement already satisfied: docker~=4.2.0 in c:\\users\\hansh\\appdata\\roaming\\python\\python39\\site-packages (from aws-sam-cli) (4.2.2)\n",
      "Requirement already satisfied: PyYAML~=5.3 in c:\\users\\hansh\\appdata\\roaming\\python\\python39\\site-packages (from aws-sam-cli) (5.4.1)\n",
      "Requirement already satisfied: typing-extensions==3.10.0.0 in c:\\users\\hansh\\appdata\\roaming\\python\\python39\\site-packages (from aws-sam-cli) (3.10.0.0)\n",
      "Requirement already satisfied: watchdog==2.1.2 in c:\\users\\hansh\\appdata\\roaming\\python\\python39\\site-packages (from aws-sam-cli) (2.1.2)\n",
      "Requirement already satisfied: click~=7.1 in c:\\users\\hansh\\appdata\\roaming\\python\\python39\\site-packages (from aws-sam-cli) (7.1.2)\n",
      "Requirement already satisfied: tomlkit==0.7.2 in c:\\users\\hansh\\appdata\\roaming\\python\\python39\\site-packages (from aws-sam-cli) (0.7.2)\n",
      "Requirement already satisfied: aws-sam-translator==1.45.0 in c:\\users\\hansh\\appdata\\roaming\\python\\python39\\site-packages (from aws-sam-cli) (1.45.0)\n",
      "Requirement already satisfied: requests==2.25.1 in c:\\users\\hansh\\appdata\\roaming\\python\\python39\\site-packages (from aws-sam-cli) (2.25.1)\n",
      "Requirement already satisfied: jmespath~=0.10.0 in c:\\users\\hansh\\appdata\\roaming\\python\\python39\\site-packages (from aws-sam-cli) (0.10.0)\n",
      "Requirement already satisfied: serverlessrepo==0.1.10 in c:\\users\\hansh\\appdata\\roaming\\python\\python39\\site-packages (from aws-sam-cli) (0.1.10)\n",
      "Requirement already satisfied: six~=1.11 in c:\\users\\hansh\\anaconda3\\lib\\site-packages (from aws-lambda-builders==1.16.0->aws-sam-cli) (1.16.0)\n",
      "Requirement already satisfied: wheel in c:\\users\\hansh\\anaconda3\\lib\\site-packages (from aws-lambda-builders==1.16.0->aws-sam-cli) (0.37.0)\n",
      "Requirement already satisfied: setuptools in c:\\users\\hansh\\anaconda3\\lib\\site-packages (from aws-lambda-builders==1.16.0->aws-sam-cli) (58.0.4)\n",
      "Requirement already satisfied: jsonschema~=3.2 in c:\\users\\hansh\\anaconda3\\lib\\site-packages (from aws-sam-translator==1.45.0->aws-sam-cli) (3.2.0)\n",
      "Requirement already satisfied: s3transfer<0.6.0,>=0.5.0 in c:\\users\\hansh\\appdata\\roaming\\python\\python39\\site-packages (from boto3==1.*,>=1.19.5->aws-sam-cli) (0.5.2)\n",
      "Requirement already satisfied: botocore<1.27.0,>=1.26.7 in c:\\users\\hansh\\appdata\\roaming\\python\\python39\\site-packages (from boto3==1.*,>=1.19.5->aws-sam-cli) (1.26.7)\n",
      "Requirement already satisfied: certifi>=2017.4.17 in c:\\users\\hansh\\anaconda3\\lib\\site-packages (from requests==2.25.1->aws-sam-cli) (2022.5.18.1)\n",
      "Requirement already satisfied: idna<3,>=2.5 in c:\\users\\hansh\\appdata\\roaming\\python\\python39\\site-packages (from requests==2.25.1->aws-sam-cli) (2.10)\n",
      "Requirement already satisfied: urllib3<1.27,>=1.21.1 in c:\\users\\hansh\\anaconda3\\lib\\site-packages (from requests==2.25.1->aws-sam-cli) (1.26.7)\n",
      "Requirement already satisfied: chardet<5,>=3.0.2 in c:\\users\\hansh\\anaconda3\\lib\\site-packages (from requests==2.25.1->aws-sam-cli) (4.0.0)\n",
      "Requirement already satisfied: tzdata in c:\\users\\hansh\\appdata\\roaming\\python\\python39\\site-packages (from tzlocal==3.0->aws-sam-cli) (2022.1)\n",
      "Requirement already satisfied: python-dateutil<3.0.0,>=2.1 in c:\\users\\hansh\\anaconda3\\lib\\site-packages (from botocore<1.27.0,>=1.26.7->boto3==1.*,>=1.19.5->aws-sam-cli) (2.8.2)\n",
      "Requirement already satisfied: Jinja2<4.0.0,>=2.7 in c:\\users\\hansh\\anaconda3\\lib\\site-packages (from cookiecutter~=1.7.2->aws-sam-cli) (2.11.3)\n",
      "Requirement already satisfied: binaryornot>=0.4.4 in c:\\users\\hansh\\anaconda3\\lib\\site-packages (from cookiecutter~=1.7.2->aws-sam-cli) (0.4.4)\n",
      "Requirement already satisfied: poyo>=0.5.0 in c:\\users\\hansh\\anaconda3\\lib\\site-packages (from cookiecutter~=1.7.2->aws-sam-cli) (0.5.0)\n",
      "Requirement already satisfied: python-slugify>=4.0.0 in c:\\users\\hansh\\anaconda3\\lib\\site-packages (from cookiecutter~=1.7.2->aws-sam-cli) (5.0.2)\n",
      "Requirement already satisfied: jinja2-time>=0.2.0 in c:\\users\\hansh\\anaconda3\\lib\\site-packages (from cookiecutter~=1.7.2->aws-sam-cli) (0.2.0)\n",
      "Requirement already satisfied: pytz in c:\\users\\hansh\\anaconda3\\lib\\site-packages (from dateparser~=1.0->aws-sam-cli) (2021.3)\n",
      "Requirement already satisfied: pypiwin32==223 in c:\\users\\hansh\\appdata\\roaming\\python\\python39\\site-packages (from docker~=4.2.0->aws-sam-cli) (223)\n",
      "Requirement already satisfied: websocket-client>=0.32.0 in c:\\users\\hansh\\appdata\\roaming\\python\\python39\\site-packages (from docker~=4.2.0->aws-sam-cli) (1.3.2)\n",
      "Requirement already satisfied: pywin32>=223 in c:\\users\\hansh\\anaconda3\\lib\\site-packages (from pypiwin32==223->docker~=4.2.0->aws-sam-cli) (228)\n",
      "Requirement already satisfied: Werkzeug>=0.15 in c:\\users\\hansh\\anaconda3\\lib\\site-packages (from Flask~=1.1.2->aws-sam-cli) (2.0.2)\n",
      "Requirement already satisfied: itsdangerous>=0.24 in c:\\users\\hansh\\anaconda3\\lib\\site-packages (from Flask~=1.1.2->aws-sam-cli) (2.0.1)\n",
      "Requirement already satisfied: arrow in c:\\users\\hansh\\anaconda3\\lib\\site-packages (from jinja2-time>=0.2.0->cookiecutter~=1.7.2->aws-sam-cli) (0.13.1)\n",
      "Requirement already satisfied: pyrsistent>=0.14.0 in c:\\users\\hansh\\anaconda3\\lib\\site-packages (from jsonschema~=3.2->aws-sam-translator==1.45.0->aws-sam-cli) (0.18.0)\n",
      "Requirement already satisfied: attrs>=17.4.0 in c:\\users\\hansh\\anaconda3\\lib\\site-packages (from jsonschema~=3.2->aws-sam-translator==1.45.0->aws-sam-cli) (21.2.0)\n",
      "Requirement already satisfied: text-unidecode>=1.3 in c:\\users\\hansh\\anaconda3\\lib\\site-packages (from python-slugify>=4.0.0->cookiecutter~=1.7.2->aws-sam-cli) (1.3)\n",
      "Installing collected packages: MarkupSafe\n",
      "Successfully installed MarkupSafe-2.0.1\n"
     ]
    },
    {
     "name": "stderr",
     "output_type": "stream",
     "text": [
      "ERROR: pip's dependency resolver does not currently take into account all the packages that are installed. This behaviour is the source of the following dependency conflicts.\n",
      "anaconda-project 0.10.1 requires ruamel-yaml, which is not installed.\n",
      "pandas-profiling 3.2.0 requires markupsafe~=2.1.1, but you have markupsafe 2.0.1 which is incompatible.\n"
     ]
    }
   ],
   "source": [
    "!pip install pandas-profiling\n",
    "!pip install MarkupSafe==2.1.1\n",
    "!pip install --user --upgrade aws-sam-cli"
   ]
  },
  {
   "cell_type": "code",
   "execution_count": 1,
   "id": "9be7d77a-a558-4501-bda2-d00535e338eb",
   "metadata": {},
   "outputs": [
    {
     "name": "stdout",
     "output_type": "stream",
     "text": [
      "[OK] Your Python version is 3.9.7 (default, Sep 16 2021, 16:59:28) [MSC v.1916 64 bit (AMD64)]\n",
      "[OK] numpy 1.21.4\n",
      "[OK] scipy 1.7.1\n",
      "[OK] matplotlib 3.4.3\n",
      "[OK] sklearn 1.0.2\n",
      "[OK] pandas 1.4.2\n"
     ]
    }
   ],
   "source": [
    "from python_environment_check import check_packages\n",
    "d = {\n",
    "    'numpy': '1.21.2',\n",
    "    'scipy': '1.7.0',\n",
    "    'matplotlib': '3.4.3',\n",
    "    'sklearn': '1.0',\n",
    "    'pandas': '1.3.2',\n",
    "}\n",
    "check_packages(d)"
   ]
  },
  {
   "cell_type": "markdown",
   "id": "overall-oliver",
   "metadata": {},
   "source": [
    "## Listing 3-1. Describing a dataframe"
   ]
  },
  {
   "cell_type": "code",
   "execution_count": 40,
   "id": "rocky-newman",
   "metadata": {},
   "outputs": [
    {
     "data": {
      "text/html": [
       "<div>\n",
       "<style scoped>\n",
       "    .dataframe tbody tr th:only-of-type {\n",
       "        vertical-align: middle;\n",
       "    }\n",
       "\n",
       "    .dataframe tbody tr th {\n",
       "        vertical-align: top;\n",
       "    }\n",
       "\n",
       "    .dataframe thead th {\n",
       "        text-align: right;\n",
       "    }\n",
       "</style>\n",
       "<table border=\"1\" class=\"dataframe\">\n",
       "  <thead>\n",
       "    <tr style=\"text-align: right;\">\n",
       "      <th></th>\n",
       "      <th>Latitude</th>\n",
       "      <th>Longitude</th>\n",
       "      <th>Depth</th>\n",
       "      <th>Depth Error</th>\n",
       "      <th>Depth Seismic Stations</th>\n",
       "      <th>Magnitude</th>\n",
       "      <th>Magnitude Error</th>\n",
       "      <th>Magnitude Seismic Stations</th>\n",
       "      <th>Azimuthal Gap</th>\n",
       "      <th>Horizontal Distance</th>\n",
       "      <th>Horizontal Error</th>\n",
       "      <th>Root Mean Square</th>\n",
       "    </tr>\n",
       "  </thead>\n",
       "  <tbody>\n",
       "    <tr>\n",
       "      <th>count</th>\n",
       "      <td>23412.000000</td>\n",
       "      <td>23412.000000</td>\n",
       "      <td>23412.000000</td>\n",
       "      <td>4461.000000</td>\n",
       "      <td>7097.000000</td>\n",
       "      <td>23412.000000</td>\n",
       "      <td>327.000000</td>\n",
       "      <td>2564.000000</td>\n",
       "      <td>7299.000000</td>\n",
       "      <td>1604.000000</td>\n",
       "      <td>1156.000000</td>\n",
       "      <td>17352.000000</td>\n",
       "    </tr>\n",
       "    <tr>\n",
       "      <th>mean</th>\n",
       "      <td>1.679033</td>\n",
       "      <td>39.639961</td>\n",
       "      <td>70.767911</td>\n",
       "      <td>4.993115</td>\n",
       "      <td>275.364098</td>\n",
       "      <td>5.882531</td>\n",
       "      <td>0.071820</td>\n",
       "      <td>48.944618</td>\n",
       "      <td>44.163532</td>\n",
       "      <td>3.992660</td>\n",
       "      <td>7.662759</td>\n",
       "      <td>1.022784</td>\n",
       "    </tr>\n",
       "    <tr>\n",
       "      <th>std</th>\n",
       "      <td>30.113183</td>\n",
       "      <td>125.511959</td>\n",
       "      <td>122.651898</td>\n",
       "      <td>4.875184</td>\n",
       "      <td>162.141631</td>\n",
       "      <td>0.423066</td>\n",
       "      <td>0.051466</td>\n",
       "      <td>62.943106</td>\n",
       "      <td>32.141486</td>\n",
       "      <td>5.377262</td>\n",
       "      <td>10.430396</td>\n",
       "      <td>0.188545</td>\n",
       "    </tr>\n",
       "    <tr>\n",
       "      <th>min</th>\n",
       "      <td>-77.080000</td>\n",
       "      <td>-179.997000</td>\n",
       "      <td>-1.100000</td>\n",
       "      <td>0.000000</td>\n",
       "      <td>0.000000</td>\n",
       "      <td>5.500000</td>\n",
       "      <td>0.000000</td>\n",
       "      <td>0.000000</td>\n",
       "      <td>0.000000</td>\n",
       "      <td>0.004505</td>\n",
       "      <td>0.085000</td>\n",
       "      <td>0.000000</td>\n",
       "    </tr>\n",
       "    <tr>\n",
       "      <th>25%</th>\n",
       "      <td>-18.653000</td>\n",
       "      <td>-76.349750</td>\n",
       "      <td>14.522500</td>\n",
       "      <td>1.800000</td>\n",
       "      <td>146.000000</td>\n",
       "      <td>5.600000</td>\n",
       "      <td>0.046000</td>\n",
       "      <td>10.000000</td>\n",
       "      <td>24.100000</td>\n",
       "      <td>0.968750</td>\n",
       "      <td>5.300000</td>\n",
       "      <td>0.900000</td>\n",
       "    </tr>\n",
       "    <tr>\n",
       "      <th>50%</th>\n",
       "      <td>-3.568500</td>\n",
       "      <td>103.982000</td>\n",
       "      <td>33.000000</td>\n",
       "      <td>3.500000</td>\n",
       "      <td>255.000000</td>\n",
       "      <td>5.700000</td>\n",
       "      <td>0.059000</td>\n",
       "      <td>28.000000</td>\n",
       "      <td>36.000000</td>\n",
       "      <td>2.319500</td>\n",
       "      <td>6.700000</td>\n",
       "      <td>1.000000</td>\n",
       "    </tr>\n",
       "    <tr>\n",
       "      <th>75%</th>\n",
       "      <td>26.190750</td>\n",
       "      <td>145.026250</td>\n",
       "      <td>54.000000</td>\n",
       "      <td>6.300000</td>\n",
       "      <td>384.000000</td>\n",
       "      <td>6.000000</td>\n",
       "      <td>0.075500</td>\n",
       "      <td>66.000000</td>\n",
       "      <td>54.000000</td>\n",
       "      <td>4.724500</td>\n",
       "      <td>8.100000</td>\n",
       "      <td>1.130000</td>\n",
       "    </tr>\n",
       "    <tr>\n",
       "      <th>max</th>\n",
       "      <td>86.005000</td>\n",
       "      <td>179.998000</td>\n",
       "      <td>700.000000</td>\n",
       "      <td>91.295000</td>\n",
       "      <td>934.000000</td>\n",
       "      <td>9.100000</td>\n",
       "      <td>0.410000</td>\n",
       "      <td>821.000000</td>\n",
       "      <td>360.000000</td>\n",
       "      <td>37.874000</td>\n",
       "      <td>99.000000</td>\n",
       "      <td>3.440000</td>\n",
       "    </tr>\n",
       "  </tbody>\n",
       "</table>\n",
       "</div>"
      ],
      "text/plain": [
       "           Latitude     Longitude         Depth  Depth Error  \\\n",
       "count  23412.000000  23412.000000  23412.000000  4461.000000   \n",
       "mean       1.679033     39.639961     70.767911     4.993115   \n",
       "std       30.113183    125.511959    122.651898     4.875184   \n",
       "min      -77.080000   -179.997000     -1.100000     0.000000   \n",
       "25%      -18.653000    -76.349750     14.522500     1.800000   \n",
       "50%       -3.568500    103.982000     33.000000     3.500000   \n",
       "75%       26.190750    145.026250     54.000000     6.300000   \n",
       "max       86.005000    179.998000    700.000000    91.295000   \n",
       "\n",
       "       Depth Seismic Stations     Magnitude  Magnitude Error  \\\n",
       "count             7097.000000  23412.000000       327.000000   \n",
       "mean               275.364098      5.882531         0.071820   \n",
       "std                162.141631      0.423066         0.051466   \n",
       "min                  0.000000      5.500000         0.000000   \n",
       "25%                146.000000      5.600000         0.046000   \n",
       "50%                255.000000      5.700000         0.059000   \n",
       "75%                384.000000      6.000000         0.075500   \n",
       "max                934.000000      9.100000         0.410000   \n",
       "\n",
       "       Magnitude Seismic Stations  Azimuthal Gap  Horizontal Distance  \\\n",
       "count                 2564.000000    7299.000000          1604.000000   \n",
       "mean                    48.944618      44.163532             3.992660   \n",
       "std                     62.943106      32.141486             5.377262   \n",
       "min                      0.000000       0.000000             0.004505   \n",
       "25%                     10.000000      24.100000             0.968750   \n",
       "50%                     28.000000      36.000000             2.319500   \n",
       "75%                     66.000000      54.000000             4.724500   \n",
       "max                    821.000000     360.000000            37.874000   \n",
       "\n",
       "       Horizontal Error  Root Mean Square  \n",
       "count       1156.000000      17352.000000  \n",
       "mean           7.662759          1.022784  \n",
       "std           10.430396          0.188545  \n",
       "min            0.085000          0.000000  \n",
       "25%            5.300000          0.900000  \n",
       "50%            6.700000          1.000000  \n",
       "75%            8.100000          1.130000  \n",
       "max           99.000000          3.440000  "
      ]
     },
     "execution_count": 40,
     "metadata": {},
     "output_type": "execute_result"
    }
   ],
   "source": [
    "import pandas as pd\n",
    "\n",
    "# Import the dataframe\n",
    "eq = pd.read_csv('Ch03_Earthquake_database.csv')\n",
    "\n",
    "# Describe the dataframe\n",
    "eq.describe()\n"
   ]
  },
  {
   "cell_type": "markdown",
   "id": "manufactured-technician",
   "metadata": {},
   "source": [
    "## Listing 3-2. Profiling a dataframe"
   ]
  },
  {
   "cell_type": "markdown",
   "id": "absent-prime",
   "metadata": {},
   "source": [
    "## Listing 3-3. Convert the earthquake data to the yearly number of earthquake"
   ]
  },
  {
   "cell_type": "code",
   "execution_count": 35,
   "id": "35a05710-95e5-46b4-9eaf-d52b33b5237f",
   "metadata": {},
   "outputs": [
    {
     "data": {
      "text/html": [
       "<div>\n",
       "<style scoped>\n",
       "    .dataframe tbody tr th:only-of-type {\n",
       "        vertical-align: middle;\n",
       "    }\n",
       "\n",
       "    .dataframe tbody tr th {\n",
       "        vertical-align: top;\n",
       "    }\n",
       "\n",
       "    .dataframe thead th {\n",
       "        text-align: right;\n",
       "    }\n",
       "</style>\n",
       "<table border=\"1\" class=\"dataframe\">\n",
       "  <thead>\n",
       "    <tr style=\"text-align: right;\">\n",
       "      <th></th>\n",
       "      <th>Date</th>\n",
       "      <th>Time</th>\n",
       "      <th>Latitude</th>\n",
       "      <th>Longitude</th>\n",
       "      <th>Type</th>\n",
       "      <th>Depth</th>\n",
       "      <th>Depth Error</th>\n",
       "      <th>Depth Seismic Stations</th>\n",
       "      <th>Magnitude</th>\n",
       "      <th>Magnitude Type</th>\n",
       "      <th>...</th>\n",
       "      <th>Magnitude Seismic Stations</th>\n",
       "      <th>Azimuthal Gap</th>\n",
       "      <th>Horizontal Distance</th>\n",
       "      <th>Horizontal Error</th>\n",
       "      <th>Root Mean Square</th>\n",
       "      <th>ID</th>\n",
       "      <th>Source</th>\n",
       "      <th>Location Source</th>\n",
       "      <th>Magnitude Source</th>\n",
       "      <th>Status</th>\n",
       "    </tr>\n",
       "  </thead>\n",
       "  <tbody>\n",
       "    <tr>\n",
       "      <th>0</th>\n",
       "      <td>1/2/1965</td>\n",
       "      <td>13:44:18</td>\n",
       "      <td>19.246</td>\n",
       "      <td>145.616</td>\n",
       "      <td>Earthquake</td>\n",
       "      <td>131.6</td>\n",
       "      <td>NaN</td>\n",
       "      <td>NaN</td>\n",
       "      <td>6.0</td>\n",
       "      <td>MW</td>\n",
       "      <td>...</td>\n",
       "      <td>NaN</td>\n",
       "      <td>NaN</td>\n",
       "      <td>NaN</td>\n",
       "      <td>NaN</td>\n",
       "      <td>NaN</td>\n",
       "      <td>ISCGEM860706</td>\n",
       "      <td>ISCGEM</td>\n",
       "      <td>ISCGEM</td>\n",
       "      <td>ISCGEM</td>\n",
       "      <td>Automatic</td>\n",
       "    </tr>\n",
       "    <tr>\n",
       "      <th>1</th>\n",
       "      <td>1/4/1965</td>\n",
       "      <td>11:29:49</td>\n",
       "      <td>1.863</td>\n",
       "      <td>127.352</td>\n",
       "      <td>Earthquake</td>\n",
       "      <td>80.0</td>\n",
       "      <td>NaN</td>\n",
       "      <td>NaN</td>\n",
       "      <td>5.8</td>\n",
       "      <td>MW</td>\n",
       "      <td>...</td>\n",
       "      <td>NaN</td>\n",
       "      <td>NaN</td>\n",
       "      <td>NaN</td>\n",
       "      <td>NaN</td>\n",
       "      <td>NaN</td>\n",
       "      <td>ISCGEM860737</td>\n",
       "      <td>ISCGEM</td>\n",
       "      <td>ISCGEM</td>\n",
       "      <td>ISCGEM</td>\n",
       "      <td>Automatic</td>\n",
       "    </tr>\n",
       "    <tr>\n",
       "      <th>2</th>\n",
       "      <td>1/5/1965</td>\n",
       "      <td>18:05:58</td>\n",
       "      <td>-20.579</td>\n",
       "      <td>-173.972</td>\n",
       "      <td>Earthquake</td>\n",
       "      <td>20.0</td>\n",
       "      <td>NaN</td>\n",
       "      <td>NaN</td>\n",
       "      <td>6.2</td>\n",
       "      <td>MW</td>\n",
       "      <td>...</td>\n",
       "      <td>NaN</td>\n",
       "      <td>NaN</td>\n",
       "      <td>NaN</td>\n",
       "      <td>NaN</td>\n",
       "      <td>NaN</td>\n",
       "      <td>ISCGEM860762</td>\n",
       "      <td>ISCGEM</td>\n",
       "      <td>ISCGEM</td>\n",
       "      <td>ISCGEM</td>\n",
       "      <td>Automatic</td>\n",
       "    </tr>\n",
       "    <tr>\n",
       "      <th>3</th>\n",
       "      <td>1/8/1965</td>\n",
       "      <td>18:49:43</td>\n",
       "      <td>-59.076</td>\n",
       "      <td>-23.557</td>\n",
       "      <td>Earthquake</td>\n",
       "      <td>15.0</td>\n",
       "      <td>NaN</td>\n",
       "      <td>NaN</td>\n",
       "      <td>5.8</td>\n",
       "      <td>MW</td>\n",
       "      <td>...</td>\n",
       "      <td>NaN</td>\n",
       "      <td>NaN</td>\n",
       "      <td>NaN</td>\n",
       "      <td>NaN</td>\n",
       "      <td>NaN</td>\n",
       "      <td>ISCGEM860856</td>\n",
       "      <td>ISCGEM</td>\n",
       "      <td>ISCGEM</td>\n",
       "      <td>ISCGEM</td>\n",
       "      <td>Automatic</td>\n",
       "    </tr>\n",
       "    <tr>\n",
       "      <th>4</th>\n",
       "      <td>1/9/1965</td>\n",
       "      <td>13:32:50</td>\n",
       "      <td>11.938</td>\n",
       "      <td>126.427</td>\n",
       "      <td>Earthquake</td>\n",
       "      <td>15.0</td>\n",
       "      <td>NaN</td>\n",
       "      <td>NaN</td>\n",
       "      <td>5.8</td>\n",
       "      <td>MW</td>\n",
       "      <td>...</td>\n",
       "      <td>NaN</td>\n",
       "      <td>NaN</td>\n",
       "      <td>NaN</td>\n",
       "      <td>NaN</td>\n",
       "      <td>NaN</td>\n",
       "      <td>ISCGEM860890</td>\n",
       "      <td>ISCGEM</td>\n",
       "      <td>ISCGEM</td>\n",
       "      <td>ISCGEM</td>\n",
       "      <td>Automatic</td>\n",
       "    </tr>\n",
       "  </tbody>\n",
       "</table>\n",
       "<p>5 rows × 21 columns</p>\n",
       "</div>"
      ],
      "text/plain": [
       "       Date      Time  Latitude  Longitude        Type  Depth  Depth Error  \\\n",
       "0  1/2/1965  13:44:18    19.246    145.616  Earthquake  131.6          NaN   \n",
       "1  1/4/1965  11:29:49     1.863    127.352  Earthquake   80.0          NaN   \n",
       "2  1/5/1965  18:05:58   -20.579   -173.972  Earthquake   20.0          NaN   \n",
       "3  1/8/1965  18:49:43   -59.076    -23.557  Earthquake   15.0          NaN   \n",
       "4  1/9/1965  13:32:50    11.938    126.427  Earthquake   15.0          NaN   \n",
       "\n",
       "   Depth Seismic Stations  Magnitude Magnitude Type  ...  \\\n",
       "0                     NaN        6.0             MW  ...   \n",
       "1                     NaN        5.8             MW  ...   \n",
       "2                     NaN        6.2             MW  ...   \n",
       "3                     NaN        5.8             MW  ...   \n",
       "4                     NaN        5.8             MW  ...   \n",
       "\n",
       "   Magnitude Seismic Stations  Azimuthal Gap  Horizontal Distance  \\\n",
       "0                         NaN            NaN                  NaN   \n",
       "1                         NaN            NaN                  NaN   \n",
       "2                         NaN            NaN                  NaN   \n",
       "3                         NaN            NaN                  NaN   \n",
       "4                         NaN            NaN                  NaN   \n",
       "\n",
       "   Horizontal Error  Root Mean Square            ID  Source Location Source  \\\n",
       "0               NaN               NaN  ISCGEM860706  ISCGEM          ISCGEM   \n",
       "1               NaN               NaN  ISCGEM860737  ISCGEM          ISCGEM   \n",
       "2               NaN               NaN  ISCGEM860762  ISCGEM          ISCGEM   \n",
       "3               NaN               NaN  ISCGEM860856  ISCGEM          ISCGEM   \n",
       "4               NaN               NaN  ISCGEM860890  ISCGEM          ISCGEM   \n",
       "\n",
       "  Magnitude Source     Status  \n",
       "0           ISCGEM  Automatic  \n",
       "1           ISCGEM  Automatic  \n",
       "2           ISCGEM  Automatic  \n",
       "3           ISCGEM  Automatic  \n",
       "4           ISCGEM  Automatic  \n",
       "\n",
       "[5 rows x 21 columns]"
      ]
     },
     "execution_count": 35,
     "metadata": {},
     "output_type": "execute_result"
    }
   ],
   "source": [
    "eq.head()"
   ]
  },
  {
   "cell_type": "code",
   "execution_count": 41,
   "id": "4af17498-7aaa-4d50-bdbf-25864070f447",
   "metadata": {},
   "outputs": [],
   "source": [
    "# Convert years to dates\n",
    "eq['year'] = pd.to_datetime(eq['Date'],format=\"%m/%d/%Y\").dt.year"
   ]
  },
  {
   "cell_type": "code",
   "execution_count": 42,
   "id": "eeb272ef-923c-46a7-b4c4-b71c8b6e1db1",
   "metadata": {},
   "outputs": [],
   "source": [
    "import matplotlib.pyplot as plt\n",
    "# Filter on earthquakes with magnitude of 7 or higher\n",
    "eq = eq[eq['Magnitude'] >= 7]"
   ]
  },
  {
   "cell_type": "code",
   "execution_count": 43,
   "id": "e2f135a6-ebce-475b-abf6-8a363d9895d6",
   "metadata": {},
   "outputs": [],
   "source": [
    "# Compute a count of earthquakes per year\n",
    "earthquakes_per_year = eq.groupby('year').count().iloc[:,0]"
   ]
  },
  {
   "cell_type": "code",
   "execution_count": 44,
   "id": "11bab6c4-3245-41e2-84df-0927bc8abd4e",
   "metadata": {},
   "outputs": [
    {
     "data": {
      "text/plain": [
       "year\n",
       "2012    16\n",
       "2013    19\n",
       "2014    12\n",
       "2015    19\n",
       "2016    16\n",
       "Name: Date, dtype: int64"
      ]
     },
     "execution_count": 44,
     "metadata": {},
     "output_type": "execute_result"
    }
   ],
   "source": [
    "earthquakes_per_year.tail()"
   ]
  },
  {
   "cell_type": "code",
   "execution_count": 6,
   "id": "ab12571b-79de-40a8-bbe4-c4c4fd422d8b",
   "metadata": {},
   "outputs": [
    {
     "data": {
      "image/png": "[encoded data removed]",
      "text/plain": [
       "<Figure size 432x288 with 1 Axes>"
      ]
     },
     "metadata": {
      "needs_background": "light"
     },
     "output_type": "display_data"
    }
   ],
   "source": [
    "# Make a plot of earthquakes per year\n",
    "ax =earthquakes_per_year.plot()\n",
    "ax.set_ylabel(\"Number of Earthquakes\")\n",
    "plt.show()"
   ]
  },
  {
   "cell_type": "markdown",
   "id": "oriented-economy",
   "metadata": {},
   "source": [
    "## Listing 3-4. Convert the earthquake data to the yearly number of earthquake"
   ]
  },
  {
   "cell_type": "code",
   "execution_count": 7,
   "id": "protecting-radical",
   "metadata": {},
   "outputs": [
    {
     "data": {
      "image/png": "[encoded data removed]",
      "text/plain": [
       "<Figure size 432x288 with 1 Axes>"
      ]
     },
     "metadata": {
      "needs_background": "light"
     },
     "output_type": "display_data"
    }
   ],
   "source": [
    "shifts = pd.DataFrame(\n",
    "    {\n",
    "        'this year': earthquakes_per_year,\n",
    "        'past year': earthquakes_per_year.shift(1)\n",
    "    }\n",
    ")\n",
    "\n",
    "ax = shifts.plot()\n",
    "ax.set_ylabel('Number of Earthquakes')\n",
    "plt.show()\n"
   ]
  },
  {
   "cell_type": "markdown",
   "id": "afraid-beach",
   "metadata": {},
   "source": [
    "## Listing 3-5. Drop missing data"
   ]
  },
  {
   "cell_type": "code",
   "execution_count": 8,
   "id": "vanilla-present",
   "metadata": {},
   "outputs": [],
   "source": [
    "shifts = shifts.dropna()"
   ]
  },
  {
   "cell_type": "markdown",
   "id": "monetary-collective",
   "metadata": {},
   "source": [
    "## Listing 3-6. Compute a correlation matrix for the shifts dataframe"
   ]
  },
  {
   "cell_type": "code",
   "execution_count": 9,
   "id": "protected-hypothesis",
   "metadata": {},
   "outputs": [
    {
     "data": {
      "text/html": [
       "<div>\n",
       "<style scoped>\n",
       "    .dataframe tbody tr th:only-of-type {\n",
       "        vertical-align: middle;\n",
       "    }\n",
       "\n",
       "    .dataframe tbody tr th {\n",
       "        vertical-align: top;\n",
       "    }\n",
       "\n",
       "    .dataframe thead th {\n",
       "        text-align: right;\n",
       "    }\n",
       "</style>\n",
       "<table border=\"1\" class=\"dataframe\">\n",
       "  <thead>\n",
       "    <tr style=\"text-align: right;\">\n",
       "      <th></th>\n",
       "      <th>this year</th>\n",
       "      <th>past year</th>\n",
       "    </tr>\n",
       "  </thead>\n",
       "  <tbody>\n",
       "    <tr>\n",
       "      <th>this year</th>\n",
       "      <td>1.000000</td>\n",
       "      <td>0.266657</td>\n",
       "    </tr>\n",
       "    <tr>\n",
       "      <th>past year</th>\n",
       "      <td>0.266657</td>\n",
       "      <td>1.000000</td>\n",
       "    </tr>\n",
       "  </tbody>\n",
       "</table>\n",
       "</div>"
      ],
      "text/plain": [
       "           this year  past year\n",
       "this year   1.000000   0.266657\n",
       "past year   0.266657   1.000000"
      ]
     },
     "execution_count": 9,
     "metadata": {},
     "output_type": "execute_result"
    }
   ],
   "source": [
    "shifts.corr()"
   ]
  },
  {
   "cell_type": "markdown",
   "id": "disabled-unemployment",
   "metadata": {},
   "source": [
    "## Listing 3-7. Augmented Dicky Fuller test"
   ]
  },
  {
   "cell_type": "code",
   "execution_count": 10,
   "id": "authorized-publication",
   "metadata": {},
   "outputs": [
    {
     "name": "stdout",
     "output_type": "stream",
     "text": [
      "(-5.380533478877688, 3.7211181090570817e-06, 0, 51, {'1%': -3.5656240522121956, '5%': -2.920142229157715, '10%': -2.598014675124952}, 219.69402897705197)\n",
      "stationary\n"
     ]
    }
   ],
   "source": [
    "from statsmodels.tsa.stattools import adfuller\n",
    "result = adfuller(earthquakes_per_year.dropna())\n",
    "print(result)\n",
    "\n",
    "pvalue = result[1]\n",
    "if pvalue < 0.05:\n",
    "    print('stationary')\n",
    "else:\n",
    "    print('not stationary')\n"
   ]
  },
  {
   "cell_type": "markdown",
   "id": "coordinated-fifteen",
   "metadata": {},
   "source": [
    "## Listing 3-8. Differencing in pandas"
   ]
  },
  {
   "cell_type": "code",
   "execution_count": 11,
   "id": "short-fifteen",
   "metadata": {},
   "outputs": [
    {
     "data": {
      "image/png": "[encoded data removed]",
      "text/plain": [
       "<Figure size 432x288 with 1 Axes>"
      ]
     },
     "metadata": {
      "needs_background": "light"
     },
     "output_type": "display_data"
    }
   ],
   "source": [
    "# Difference the data\n",
    "differenced_data = earthquakes_per_year.diff().dropna()\n",
    "\n",
    "# Plot the differenced data\n",
    "ax = differenced_data.plot()\n",
    "ax.set_ylabel('Differenced number of Earthquakes')\n",
    "plt.show()\n"
   ]
  },
  {
   "cell_type": "markdown",
   "id": "cubic-mirror",
   "metadata": {},
   "source": [
    "## Listing 3-9. Autocorrelation of the differenced data"
   ]
  },
  {
   "cell_type": "code",
   "execution_count": 12,
   "id": "direct-cable",
   "metadata": {},
   "outputs": [
    {
     "data": {
      "image/png": "[encoded data removed]",
      "text/plain": [
       "<Figure size 432x288 with 1 Axes>"
      ]
     },
     "metadata": {
      "needs_background": "light"
     },
     "output_type": "display_data"
    },
    {
     "data": {
      "text/html": [
       "<div>\n",
       "<style scoped>\n",
       "    .dataframe tbody tr th:only-of-type {\n",
       "        vertical-align: middle;\n",
       "    }\n",
       "\n",
       "    .dataframe tbody tr th {\n",
       "        vertical-align: top;\n",
       "    }\n",
       "\n",
       "    .dataframe thead th {\n",
       "        text-align: right;\n",
       "    }\n",
       "</style>\n",
       "<table border=\"1\" class=\"dataframe\">\n",
       "  <thead>\n",
       "    <tr style=\"text-align: right;\">\n",
       "      <th></th>\n",
       "      <th>this year</th>\n",
       "      <th>past year</th>\n",
       "    </tr>\n",
       "  </thead>\n",
       "  <tbody>\n",
       "    <tr>\n",
       "      <th>this year</th>\n",
       "      <td>1.00000</td>\n",
       "      <td>-0.41607</td>\n",
       "    </tr>\n",
       "    <tr>\n",
       "      <th>past year</th>\n",
       "      <td>-0.41607</td>\n",
       "      <td>1.00000</td>\n",
       "    </tr>\n",
       "  </tbody>\n",
       "</table>\n",
       "</div>"
      ],
      "text/plain": [
       "           this year  past year\n",
       "this year    1.00000   -0.41607\n",
       "past year   -0.41607    1.00000"
      ]
     },
     "execution_count": 12,
     "metadata": {},
     "output_type": "execute_result"
    }
   ],
   "source": [
    "shifts_diff = pd.DataFrame(\n",
    "    {\n",
    "        'this year': differenced_data,\n",
    "        'past year': differenced_data.shift(1)\n",
    "    }\n",
    ")\n",
    "\n",
    "ax = shifts_diff.plot()\n",
    "ax.set_ylabel('Differenced number of Earthquakes')\n",
    "plt.show()\n",
    "\n",
    "shifts_diff.corr()\n"
   ]
  },
  {
   "cell_type": "markdown",
   "id": "secret-captain",
   "metadata": {},
   "source": [
    "## Listing 3-10. Autocorrelation of the differenced data"
   ]
  },
  {
   "cell_type": "code",
   "execution_count": 13,
   "id": "polar-soccer",
   "metadata": {},
   "outputs": [
    {
     "data": {
      "image/png": "[encoded data removed]",
      "text/plain": [
       "<Figure size 432x288 with 1 Axes>"
      ]
     },
     "metadata": {
      "needs_background": "light"
     },
     "output_type": "display_data"
    }
   ],
   "source": [
    "from statsmodels.graphics.tsaplots import plot_acf\n",
    "import matplotlib.pyplot as plt\n",
    "\n",
    "plot_acf(differenced_data, lags=20)\n",
    "plt.show()\n"
   ]
  },
  {
   "cell_type": "markdown",
   "id": "sharp-quarter",
   "metadata": {},
   "source": [
    "## Listing 3-11.Partial Autocorrelation of the differenced data"
   ]
  },
  {
   "cell_type": "code",
   "execution_count": 14,
   "id": "fresh-missouri",
   "metadata": {},
   "outputs": [
    {
     "name": "stderr",
     "output_type": "stream",
     "text": [
      "C:\\Users\\hansh\\anaconda3\\lib\\site-packages\\statsmodels\\graphics\\tsaplots.py:348: FutureWarning: The default method 'yw' can produce PACF values outside of the [-1,1] interval. After 0.13, the default will change tounadjusted Yule-Walker ('ywm'). You can use this method now by setting method='ywm'.\n",
      "  warnings.warn(\n"
     ]
    },
    {
     "data": {
      "image/png": "[encoded data removed]",
      "text/plain": [
       "<Figure size 432x288 with 1 Axes>"
      ]
     },
     "metadata": {
      "needs_background": "light"
     },
     "output_type": "display_data"
    }
   ],
   "source": [
    "from statsmodels.graphics.tsaplots import plot_pacf\n",
    "plot_pacf(differenced_data, lags = 20)\n",
    "plt.show()\n"
   ]
  },
  {
   "cell_type": "markdown",
   "id": "worthy-chaos",
   "metadata": {},
   "source": [
    "## Listing 3-12. Estimate Yule Walker AR coefficients with order 3"
   ]
  },
  {
   "cell_type": "code",
   "execution_count": 15,
   "id": "wound-determination",
   "metadata": {},
   "outputs": [
    {
     "name": "stdout",
     "output_type": "stream",
     "text": [
      "coefficients:  [-0.63390427 -0.48970585 -0.17569908]\n",
      "sigma:  3.8940613973301224\n"
     ]
    }
   ],
   "source": [
    "from statsmodels.regression.linear_model import yule_walker\n",
    "coefficients, sigma = yule_walker(differenced_data, order = 3)\n",
    "print('coefficients: ', coefficients)\n",
    "print('sigma: ', sigma)\n"
   ]
  },
  {
   "cell_type": "code",
   "execution_count": 80,
   "id": "5f6e8cd4-63bd-439c-96c0-ed29c086314c",
   "metadata": {},
   "outputs": [
    {
     "data": {
      "text/plain": [
       "year\n",
       "1965    18\n",
       "1966     9\n",
       "1967    11\n",
       "1968    22\n",
       "1969    14\n",
       "Name: Date, dtype: int64"
      ]
     },
     "execution_count": 80,
     "metadata": {},
     "output_type": "execute_result"
    }
   ],
   "source": [
    "earthquakes_per_year.head()"
   ]
  },
  {
   "cell_type": "code",
   "execution_count": 79,
   "id": "7bd191a8-8375-47aa-afc8-37c94bbc7e20",
   "metadata": {},
   "outputs": [
    {
     "data": {
      "text/plain": [
       "year\n",
       "1966    -9.0\n",
       "1967     2.0\n",
       "1968    11.0\n",
       "1969    -8.0\n",
       "1970     3.0\n",
       "Name: Date, dtype: float64"
      ]
     },
     "execution_count": 79,
     "metadata": {},
     "output_type": "execute_result"
    }
   ],
   "source": [
    "differenced_data.head()"
   ]
  },
  {
   "cell_type": "markdown",
   "id": "sunrise-export",
   "metadata": {},
   "source": [
    "## Listing 3-13. Make a Forecast with the AR coefficients"
   ]
  },
  {
   "cell_type": "code",
   "execution_count": 83,
   "id": "contained-shepherd",
   "metadata": {},
   "outputs": [],
   "source": [
    "coefficients, sigma = yule_walker(differenced_data, order = 3)\n",
    "\n",
    "# Make a list of differenced values\n",
    "val_list = list(differenced_data)\n",
    "# Reverse the list so that the order corresponds with the order of the coefficients\n",
    "val_list.reverse()\n",
    "# Define the number of years to predict\n",
    "n_steps = 10\n",
    "\n",
    "# For each year to predict\n",
    "for i in range(n_steps):\n",
    "    \n",
    "    # Compute the new value as the sum of lagged values multiplied by their corresponding coefficient\n",
    "    new_val = 0\n",
    "    for j in range(len(coefficients)):\n",
    "        \n",
    "        new_val += coefficients[j] * val_list[j]\n",
    "    \n",
    "    # Insert the new value at the beginning of the list\n",
    "    val_list.insert(0, new_val)\n",
    "\n",
    "# Redo the reverse to have the order of time\n",
    "val_list.reverse()"
   ]
  },
  {
   "cell_type": "code",
   "execution_count": 84,
   "id": "c3ae2a3d-27a5-4366-a8fb-9ef33efe0244",
   "metadata": {},
   "outputs": [
    {
     "data": {
      "text/plain": [
       "[-9.0,\n",
       " 2.0,\n",
       " 11.0,\n",
       " -8.0,\n",
       " 3.0,\n",
       " 3.0,\n",
       " -4.0,\n",
       " -7.0,\n",
       " 2.0,\n",
       " 2.0,\n",
       " 1.0,\n",
       " -4.0,\n",
       " 2.0,\n",
       " -4.0,\n",
       " -2.0,\n",
       " 5.0,\n",
       " -4.0,\n",
       " 7.0,\n",
       " 0.0,\n",
       " 1.0,\n",
       " -4.0,\n",
       " 2.0,\n",
       " -2.0,\n",
       " -3.0,\n",
       " 10.0,\n",
       " -1.0,\n",
       " -4.0,\n",
       " -1.0,\n",
       " 1.0,\n",
       " 7.0,\n",
       " -5.0,\n",
       " 1.0,\n",
       " -4.0,\n",
       " 6.0,\n",
       " -3.0,\n",
       " 1.0,\n",
       " -3.0,\n",
       " 2.0,\n",
       " 1.0,\n",
       " -5.0,\n",
       " 0.0,\n",
       " 7.0,\n",
       " -6.0,\n",
       " 5.0,\n",
       " 7.0,\n",
       " -4.0,\n",
       " -4.0,\n",
       " 3.0,\n",
       " -7.0,\n",
       " 7.0,\n",
       " -3.0,\n",
       " -0.29633457879790615,\n",
       " 0.427071726024423,\n",
       " 0.40149143652700875,\n",
       " -0.4115809433403693,\n",
       " -0.010745900435592273,\n",
       " 0.13782379095074243,\n",
       " -0.009790364417121361,\n",
       " -0.05939891817219137,\n",
       " 0.018232112672403454,\n",
       " 0.019250741807983297]"
      ]
     },
     "execution_count": 84,
     "metadata": {},
     "output_type": "execute_result"
    }
   ],
   "source": [
    "val_list"
   ]
  },
  {
   "cell_type": "code",
   "execution_count": 85,
   "id": "e9176375-8d74-40e5-839e-5e15765cea9d",
   "metadata": {},
   "outputs": [
    {
     "data": {
      "text/plain": [
       "[18,\n",
       " -9.0,\n",
       " 2.0,\n",
       " 11.0,\n",
       " -8.0,\n",
       " 3.0,\n",
       " 3.0,\n",
       " -4.0,\n",
       " -7.0,\n",
       " 2.0,\n",
       " 2.0,\n",
       " 1.0,\n",
       " -4.0,\n",
       " 2.0,\n",
       " -4.0,\n",
       " -2.0,\n",
       " 5.0,\n",
       " -4.0,\n",
       " 7.0,\n",
       " 0.0,\n",
       " 1.0,\n",
       " -4.0,\n",
       " 2.0,\n",
       " -2.0,\n",
       " -3.0,\n",
       " 10.0,\n",
       " -1.0,\n",
       " -4.0,\n",
       " -1.0,\n",
       " 1.0,\n",
       " 7.0,\n",
       " -5.0,\n",
       " 1.0,\n",
       " -4.0,\n",
       " 6.0,\n",
       " -3.0,\n",
       " 1.0,\n",
       " -3.0,\n",
       " 2.0,\n",
       " 1.0,\n",
       " -5.0,\n",
       " 0.0,\n",
       " 7.0,\n",
       " -6.0,\n",
       " 5.0,\n",
       " 7.0,\n",
       " -4.0,\n",
       " -4.0,\n",
       " 3.0,\n",
       " -7.0,\n",
       " 7.0,\n",
       " -3.0,\n",
       " -0.29633457879790615,\n",
       " 0.427071726024423,\n",
       " 0.40149143652700875,\n",
       " -0.4115809433403693,\n",
       " -0.010745900435592273,\n",
       " 0.13782379095074243,\n",
       " -0.009790364417121361,\n",
       " -0.05939891817219137,\n",
       " 0.018232112672403454,\n",
       " 0.019250741807983297]"
      ]
     },
     "execution_count": 85,
     "metadata": {},
     "output_type": "execute_result"
    }
   ],
   "source": [
    "# Add the original first value back into the list and do a cumulative sum to undo the differencing \n",
    "import numpy as np\n",
    "val_list = [earthquakes_per_year.values[0]] + val_list\n",
    "val_list"
   ]
  },
  {
   "cell_type": "code",
   "execution_count": 86,
   "id": "ccc36532-cb20-4138-90a8-a6cf6a80c517",
   "metadata": {},
   "outputs": [
    {
     "data": {
      "image/png": "[encoded data removed]",
      "text/plain": [
       "<Figure size 432x288 with 1 Axes>"
      ]
     },
     "metadata": {
      "needs_background": "light"
     },
     "output_type": "display_data"
    }
   ],
   "source": [
    "# Add the original first value back into the list and do a cumulative sum to undo the differencing \n",
    "new_val_list = pd.Series(val_list).cumsum()\n",
    "\n",
    "# Plot the newly obtained list\n",
    "plt.plot(range(1965, 2027), new_val_list)\n",
    "plt.ylabel('Number of earthquakes')\n",
    "plt.show()\n"
   ]
  },
  {
   "cell_type": "markdown",
   "id": "fifteen-glance",
   "metadata": {},
   "source": [
    "## Listing 3-14. Fit the model on a train set and evaluate it on a test set"
   ]
  },
  {
   "cell_type": "code",
   "execution_count": 102,
   "id": "occupational-aspect",
   "metadata": {},
   "outputs": [],
   "source": [
    "from sklearn.metrics import r2_score\n",
    "\n",
    "train = list(differenced_data)[:-12]\n",
    "test = list(earthquakes_per_year)[-12:]\n",
    "\n",
    "coefficients, sigma = yule_walker(train, order = 3)\n"
   ]
  },
  {
   "cell_type": "code",
   "execution_count": 103,
   "id": "124404b5-d628-43a3-8648-b4a78c7d2507",
   "metadata": {},
   "outputs": [
    {
     "data": {
      "text/plain": [
       "array([-0.6212063 , -0.51548298, -0.28172753])"
      ]
     },
     "execution_count": 103,
     "metadata": {},
     "output_type": "execute_result"
    }
   ],
   "source": [
    "coefficients"
   ]
  },
  {
   "cell_type": "code",
   "execution_count": 104,
   "id": "58adf0b0-9c50-4c29-aa19-d1e632254ccd",
   "metadata": {},
   "outputs": [],
   "source": [
    "# Make a list of differenced values\n",
    "val_list = list(train)\n",
    "# Reverse the list so that the order corresponds with the order of the coefficients\n",
    "val_list.reverse()\n",
    "# Define the number of years to predict\n",
    "n_steps = 12\n",
    "\n",
    "# For each year to predict\n",
    "for i in range(n_steps):\n",
    "    \n",
    "    # Compute the new value as the sum of lagged values multiplied by their corresponding coefficient\n",
    "    new_val = 0\n",
    "    for j in range(len(coefficients)):\n",
    "        \n",
    "        new_val += coefficients[j] * val_list[j]\n",
    "    \n",
    "    # Insert the new value at the beginning of the list\n",
    "    val_list.insert(0, new_val)\n"
   ]
  },
  {
   "cell_type": "code",
   "execution_count": 105,
   "id": "dc4e5a6e-58af-43ee-824b-255fc8b9ab2c",
   "metadata": {},
   "outputs": [],
   "source": [
    "# Redo the reverso to have the order of time\n",
    "val_list.reverse()"
   ]
  },
  {
   "cell_type": "code",
   "execution_count": 106,
   "id": "efffbc0a-2eba-41a9-b1ca-cb3d128a7663",
   "metadata": {},
   "outputs": [
    {
     "data": {
      "text/plain": [
       "[18,\n",
       " -9.0,\n",
       " 2.0,\n",
       " 11.0,\n",
       " -8.0,\n",
       " 3.0,\n",
       " 3.0,\n",
       " -4.0,\n",
       " -7.0,\n",
       " 2.0,\n",
       " 2.0,\n",
       " 1.0,\n",
       " -4.0,\n",
       " 2.0,\n",
       " -4.0,\n",
       " -2.0,\n",
       " 5.0,\n",
       " -4.0,\n",
       " 7.0,\n",
       " 0.0,\n",
       " 1.0,\n",
       " -4.0,\n",
       " 2.0,\n",
       " -2.0,\n",
       " -3.0,\n",
       " 10.0,\n",
       " -1.0,\n",
       " -4.0,\n",
       " -1.0,\n",
       " 1.0,\n",
       " 7.0,\n",
       " -5.0,\n",
       " 1.0,\n",
       " -4.0,\n",
       " 6.0,\n",
       " -3.0,\n",
       " 1.0,\n",
       " -3.0,\n",
       " 2.0,\n",
       " 1.0,\n",
       " -0.806989659377384,\n",
       " -0.5776309810882279,\n",
       " 0.49308990592885094,\n",
       " 0.21879958659990567,\n",
       " -0.22736458400129622,\n",
       " -0.11046415255396415,\n",
       " 0.12418173287120546,\n",
       " 0.04385477847138181,\n",
       " -0.06013564106268189,\n",
       " -0.02023516578561056,\n",
       " 0.031214013305094643,\n",
       " 0.007982407512654425]"
      ]
     },
     "execution_count": 106,
     "metadata": {},
     "output_type": "execute_result"
    }
   ],
   "source": [
    "val_list = [earthquakes_per_year.values[0]] + val_list\n",
    "val_list"
   ]
  },
  {
   "cell_type": "code",
   "execution_count": 107,
   "id": "e96276dc-342c-4199-91b3-fb12559414ff",
   "metadata": {},
   "outputs": [],
   "source": [
    "new_val_list = pd.Series(val_list).cumsum()"
   ]
  },
  {
   "cell_type": "code",
   "execution_count": 108,
   "id": "35180be6-a72a-4283-a59b-f052bc6927e6",
   "metadata": {},
   "outputs": [
    {
     "name": "stdout",
     "output_type": "stream",
     "text": [
      "Test R2: -0.08600535027515854\n"
     ]
    }
   ],
   "source": [
    "# Plot the newly obtained list\n",
    "validation = pd.DataFrame({\n",
    "    'original': earthquakes_per_year.values,\n",
    "    'pred': new_val_list })\n",
    "\n",
    "print('Test R2:', r2_score(validation.iloc[-12:, 0], validation.iloc[-12:, 1]))\n"
   ]
  },
  {
   "cell_type": "code",
   "execution_count": 109,
   "id": "c6fe7deb-550a-4d58-80ec-983f584cfb6b",
   "metadata": {},
   "outputs": [],
   "source": [
    "validation.index=earthquakes_per_year.index"
   ]
  },
  {
   "cell_type": "code",
   "execution_count": 110,
   "id": "337d630b-df00-4d90-9d96-61aebd6610aa",
   "metadata": {},
   "outputs": [
    {
     "data": {
      "text/html": [
       "<div>\n",
       "<style scoped>\n",
       "    .dataframe tbody tr th:only-of-type {\n",
       "        vertical-align: middle;\n",
       "    }\n",
       "\n",
       "    .dataframe tbody tr th {\n",
       "        vertical-align: top;\n",
       "    }\n",
       "\n",
       "    .dataframe thead th {\n",
       "        text-align: right;\n",
       "    }\n",
       "</style>\n",
       "<table border=\"1\" class=\"dataframe\">\n",
       "  <thead>\n",
       "    <tr style=\"text-align: right;\">\n",
       "      <th></th>\n",
       "      <th>original</th>\n",
       "      <th>pred</th>\n",
       "    </tr>\n",
       "    <tr>\n",
       "      <th>year</th>\n",
       "      <th></th>\n",
       "      <th></th>\n",
       "    </tr>\n",
       "  </thead>\n",
       "  <tbody>\n",
       "    <tr>\n",
       "      <th>1965</th>\n",
       "      <td>18</td>\n",
       "      <td>18.000000</td>\n",
       "    </tr>\n",
       "    <tr>\n",
       "      <th>1966</th>\n",
       "      <td>9</td>\n",
       "      <td>9.000000</td>\n",
       "    </tr>\n",
       "    <tr>\n",
       "      <th>1967</th>\n",
       "      <td>11</td>\n",
       "      <td>11.000000</td>\n",
       "    </tr>\n",
       "    <tr>\n",
       "      <th>1968</th>\n",
       "      <td>22</td>\n",
       "      <td>22.000000</td>\n",
       "    </tr>\n",
       "    <tr>\n",
       "      <th>1969</th>\n",
       "      <td>14</td>\n",
       "      <td>14.000000</td>\n",
       "    </tr>\n",
       "    <tr>\n",
       "      <th>1970</th>\n",
       "      <td>17</td>\n",
       "      <td>17.000000</td>\n",
       "    </tr>\n",
       "    <tr>\n",
       "      <th>1971</th>\n",
       "      <td>20</td>\n",
       "      <td>20.000000</td>\n",
       "    </tr>\n",
       "    <tr>\n",
       "      <th>1972</th>\n",
       "      <td>16</td>\n",
       "      <td>16.000000</td>\n",
       "    </tr>\n",
       "    <tr>\n",
       "      <th>1973</th>\n",
       "      <td>9</td>\n",
       "      <td>9.000000</td>\n",
       "    </tr>\n",
       "    <tr>\n",
       "      <th>1974</th>\n",
       "      <td>11</td>\n",
       "      <td>11.000000</td>\n",
       "    </tr>\n",
       "    <tr>\n",
       "      <th>1975</th>\n",
       "      <td>13</td>\n",
       "      <td>13.000000</td>\n",
       "    </tr>\n",
       "    <tr>\n",
       "      <th>1976</th>\n",
       "      <td>14</td>\n",
       "      <td>14.000000</td>\n",
       "    </tr>\n",
       "    <tr>\n",
       "      <th>1977</th>\n",
       "      <td>10</td>\n",
       "      <td>10.000000</td>\n",
       "    </tr>\n",
       "    <tr>\n",
       "      <th>1978</th>\n",
       "      <td>12</td>\n",
       "      <td>12.000000</td>\n",
       "    </tr>\n",
       "    <tr>\n",
       "      <th>1979</th>\n",
       "      <td>8</td>\n",
       "      <td>8.000000</td>\n",
       "    </tr>\n",
       "    <tr>\n",
       "      <th>1980</th>\n",
       "      <td>6</td>\n",
       "      <td>6.000000</td>\n",
       "    </tr>\n",
       "    <tr>\n",
       "      <th>1981</th>\n",
       "      <td>11</td>\n",
       "      <td>11.000000</td>\n",
       "    </tr>\n",
       "    <tr>\n",
       "      <th>1982</th>\n",
       "      <td>7</td>\n",
       "      <td>7.000000</td>\n",
       "    </tr>\n",
       "    <tr>\n",
       "      <th>1983</th>\n",
       "      <td>14</td>\n",
       "      <td>14.000000</td>\n",
       "    </tr>\n",
       "    <tr>\n",
       "      <th>1984</th>\n",
       "      <td>14</td>\n",
       "      <td>14.000000</td>\n",
       "    </tr>\n",
       "    <tr>\n",
       "      <th>1985</th>\n",
       "      <td>15</td>\n",
       "      <td>15.000000</td>\n",
       "    </tr>\n",
       "    <tr>\n",
       "      <th>1986</th>\n",
       "      <td>11</td>\n",
       "      <td>11.000000</td>\n",
       "    </tr>\n",
       "    <tr>\n",
       "      <th>1987</th>\n",
       "      <td>13</td>\n",
       "      <td>13.000000</td>\n",
       "    </tr>\n",
       "    <tr>\n",
       "      <th>1988</th>\n",
       "      <td>11</td>\n",
       "      <td>11.000000</td>\n",
       "    </tr>\n",
       "    <tr>\n",
       "      <th>1989</th>\n",
       "      <td>8</td>\n",
       "      <td>8.000000</td>\n",
       "    </tr>\n",
       "    <tr>\n",
       "      <th>1990</th>\n",
       "      <td>18</td>\n",
       "      <td>18.000000</td>\n",
       "    </tr>\n",
       "    <tr>\n",
       "      <th>1991</th>\n",
       "      <td>17</td>\n",
       "      <td>17.000000</td>\n",
       "    </tr>\n",
       "    <tr>\n",
       "      <th>1992</th>\n",
       "      <td>13</td>\n",
       "      <td>13.000000</td>\n",
       "    </tr>\n",
       "    <tr>\n",
       "      <th>1993</th>\n",
       "      <td>12</td>\n",
       "      <td>12.000000</td>\n",
       "    </tr>\n",
       "    <tr>\n",
       "      <th>1994</th>\n",
       "      <td>13</td>\n",
       "      <td>13.000000</td>\n",
       "    </tr>\n",
       "    <tr>\n",
       "      <th>1995</th>\n",
       "      <td>20</td>\n",
       "      <td>20.000000</td>\n",
       "    </tr>\n",
       "    <tr>\n",
       "      <th>1996</th>\n",
       "      <td>15</td>\n",
       "      <td>15.000000</td>\n",
       "    </tr>\n",
       "    <tr>\n",
       "      <th>1997</th>\n",
       "      <td>16</td>\n",
       "      <td>16.000000</td>\n",
       "    </tr>\n",
       "    <tr>\n",
       "      <th>1998</th>\n",
       "      <td>12</td>\n",
       "      <td>12.000000</td>\n",
       "    </tr>\n",
       "    <tr>\n",
       "      <th>1999</th>\n",
       "      <td>18</td>\n",
       "      <td>18.000000</td>\n",
       "    </tr>\n",
       "    <tr>\n",
       "      <th>2000</th>\n",
       "      <td>15</td>\n",
       "      <td>15.000000</td>\n",
       "    </tr>\n",
       "    <tr>\n",
       "      <th>2001</th>\n",
       "      <td>16</td>\n",
       "      <td>16.000000</td>\n",
       "    </tr>\n",
       "    <tr>\n",
       "      <th>2002</th>\n",
       "      <td>13</td>\n",
       "      <td>13.000000</td>\n",
       "    </tr>\n",
       "    <tr>\n",
       "      <th>2003</th>\n",
       "      <td>15</td>\n",
       "      <td>15.000000</td>\n",
       "    </tr>\n",
       "    <tr>\n",
       "      <th>2004</th>\n",
       "      <td>16</td>\n",
       "      <td>16.000000</td>\n",
       "    </tr>\n",
       "    <tr>\n",
       "      <th>2005</th>\n",
       "      <td>11</td>\n",
       "      <td>15.193010</td>\n",
       "    </tr>\n",
       "    <tr>\n",
       "      <th>2006</th>\n",
       "      <td>11</td>\n",
       "      <td>14.615379</td>\n",
       "    </tr>\n",
       "    <tr>\n",
       "      <th>2007</th>\n",
       "      <td>18</td>\n",
       "      <td>15.108469</td>\n",
       "    </tr>\n",
       "    <tr>\n",
       "      <th>2008</th>\n",
       "      <td>12</td>\n",
       "      <td>15.327269</td>\n",
       "    </tr>\n",
       "    <tr>\n",
       "      <th>2009</th>\n",
       "      <td>17</td>\n",
       "      <td>15.099904</td>\n",
       "    </tr>\n",
       "    <tr>\n",
       "      <th>2010</th>\n",
       "      <td>24</td>\n",
       "      <td>14.989440</td>\n",
       "    </tr>\n",
       "    <tr>\n",
       "      <th>2011</th>\n",
       "      <td>20</td>\n",
       "      <td>15.113622</td>\n",
       "    </tr>\n",
       "    <tr>\n",
       "      <th>2012</th>\n",
       "      <td>16</td>\n",
       "      <td>15.157477</td>\n",
       "    </tr>\n",
       "    <tr>\n",
       "      <th>2013</th>\n",
       "      <td>19</td>\n",
       "      <td>15.097341</td>\n",
       "    </tr>\n",
       "    <tr>\n",
       "      <th>2014</th>\n",
       "      <td>12</td>\n",
       "      <td>15.077106</td>\n",
       "    </tr>\n",
       "    <tr>\n",
       "      <th>2015</th>\n",
       "      <td>19</td>\n",
       "      <td>15.108320</td>\n",
       "    </tr>\n",
       "    <tr>\n",
       "      <th>2016</th>\n",
       "      <td>16</td>\n",
       "      <td>15.116302</td>\n",
       "    </tr>\n",
       "  </tbody>\n",
       "</table>\n",
       "</div>"
      ],
      "text/plain": [
       "      original       pred\n",
       "year                     \n",
       "1965        18  18.000000\n",
       "1966         9   9.000000\n",
       "1967        11  11.000000\n",
       "1968        22  22.000000\n",
       "1969        14  14.000000\n",
       "1970        17  17.000000\n",
       "1971        20  20.000000\n",
       "1972        16  16.000000\n",
       "1973         9   9.000000\n",
       "1974        11  11.000000\n",
       "1975        13  13.000000\n",
       "1976        14  14.000000\n",
       "1977        10  10.000000\n",
       "1978        12  12.000000\n",
       "1979         8   8.000000\n",
       "1980         6   6.000000\n",
       "1981        11  11.000000\n",
       "1982         7   7.000000\n",
       "1983        14  14.000000\n",
       "1984        14  14.000000\n",
       "1985        15  15.000000\n",
       "1986        11  11.000000\n",
       "1987        13  13.000000\n",
       "1988        11  11.000000\n",
       "1989         8   8.000000\n",
       "1990        18  18.000000\n",
       "1991        17  17.000000\n",
       "1992        13  13.000000\n",
       "1993        12  12.000000\n",
       "1994        13  13.000000\n",
       "1995        20  20.000000\n",
       "1996        15  15.000000\n",
       "1997        16  16.000000\n",
       "1998        12  12.000000\n",
       "1999        18  18.000000\n",
       "2000        15  15.000000\n",
       "2001        16  16.000000\n",
       "2002        13  13.000000\n",
       "2003        15  15.000000\n",
       "2004        16  16.000000\n",
       "2005        11  15.193010\n",
       "2006        11  14.615379\n",
       "2007        18  15.108469\n",
       "2008        12  15.327269\n",
       "2009        17  15.099904\n",
       "2010        24  14.989440\n",
       "2011        20  15.113622\n",
       "2012        16  15.157477\n",
       "2013        19  15.097341\n",
       "2014        12  15.077106\n",
       "2015        19  15.108320\n",
       "2016        16  15.116302"
      ]
     },
     "execution_count": 110,
     "metadata": {},
     "output_type": "execute_result"
    }
   ],
   "source": [
    "validation"
   ]
  },
  {
   "cell_type": "code",
   "execution_count": 111,
   "id": "f0080f9e-0904-41dc-a34f-97f99d071501",
   "metadata": {},
   "outputs": [
    {
     "data": {
      "image/png": "[encoded data removed]",
      "text/plain": [
       "<Figure size 432x288 with 1 Axes>"
      ]
     },
     "metadata": {
      "needs_background": "light"
     },
     "output_type": "display_data"
    }
   ],
   "source": [
    "# Plot the newly obtained list\n",
    "plt.plot(validation)\n",
    "plt.legend(validation.columns,loc=\"lower right\")\n",
    "plt.ylabel('Number of earthquakes')\n",
    "plt.show()"
   ]
  },
  {
   "cell_type": "markdown",
   "id": "separate-appearance",
   "metadata": {},
   "source": [
    "## Listing 3-15. Apply a grid search to find the order that gives the best R2 score on the test data"
   ]
  },
  {
   "cell_type": "code",
   "execution_count": 112,
   "id": "internal-cambodia",
   "metadata": {},
   "outputs": [],
   "source": [
    "def evaluate(order):\n",
    "    train = list(differenced_data)[:-12]\n",
    "    test = list(earthquakes_per_year)[-12:]\n",
    "\n",
    "    coefficients, sigma = yule_walker(train, order = order)\n",
    "\n",
    "    # Make a list of differenced values\n",
    "    val_list = list(train)\n",
    "    # Reverse the list to corresponds with the order of coefs\n",
    "    val_list.reverse()\n",
    "    # Define the number of years to predict\n",
    "    n_steps = 12\n",
    "\n",
    "    # For each year to predict\n",
    "    for i in range(n_steps):\n",
    "\n",
    "        # Compute the new value \n",
    "        new_val = 0\n",
    "        for j in range(len(coefficients)):\n",
    "            new_val += coefficients[j] * val_list[j]\n",
    "\n",
    "        # Insert the new value at the beginning of the list\n",
    "        val_list.insert(0, new_val)\n",
    "\n",
    "    # Redo the reverse to have the order of time\n",
    "    val_list.reverse()\n",
    "\n",
    "    # Undo the differencing with a cumsum\n",
    "    val_list = [earthquakes_per_year.values[0]] + val_list\n",
    "    new_val_list = pd.Series(val_list).cumsum()\n",
    "\n",
    "    # Plot the newly obtained list\n",
    "    validation = pd.DataFrame({\n",
    "        'original': earthquakes_per_year.values,\n",
    "        'pred': new_val_list })\n",
    "\n",
    "    return r2_score(validation.iloc[-12:, 0], validation.iloc[-12:, 1])\n",
    "\n"
   ]
  },
  {
   "cell_type": "code",
   "execution_count": 113,
   "id": "1d46cf2a-ded3-4503-8aa1-4fed84df8076",
   "metadata": {},
   "outputs": [
    {
     "data": {
      "text/html": [
       "<div>\n",
       "<style scoped>\n",
       "    .dataframe tbody tr th:only-of-type {\n",
       "        vertical-align: middle;\n",
       "    }\n",
       "\n",
       "    .dataframe tbody tr th {\n",
       "        vertical-align: top;\n",
       "    }\n",
       "\n",
       "    .dataframe thead th {\n",
       "        text-align: right;\n",
       "    }\n",
       "</style>\n",
       "<table border=\"1\" class=\"dataframe\">\n",
       "  <thead>\n",
       "    <tr style=\"text-align: right;\">\n",
       "      <th></th>\n",
       "      <th>orders</th>\n",
       "      <th>scores</th>\n",
       "    </tr>\n",
       "  </thead>\n",
       "  <tbody>\n",
       "    <tr>\n",
       "      <th>16</th>\n",
       "      <td>17</td>\n",
       "      <td>0.124929</td>\n",
       "    </tr>\n",
       "  </tbody>\n",
       "</table>\n",
       "</div>"
      ],
      "text/plain": [
       "    orders    scores\n",
       "16      17  0.124929"
      ]
     },
     "execution_count": 113,
     "metadata": {},
     "output_type": "execute_result"
    }
   ],
   "source": [
    "# For each order between 1 and 30, fit and evaluate the model\n",
    "orders = []\n",
    "r2scores = []\n",
    "for order in range(1, 31):\n",
    "    orders.append(order)\n",
    "    r2scores.append(evaluate(order))\n",
    "    \n",
    "# Create a results data frame\n",
    "results =pd.DataFrame({'orders': orders,\n",
    "                      'scores': r2scores})\n",
    "\n",
    "# Show the order with best R2 score\n",
    "results[results['scores'] == results.max()['scores']]\n"
   ]
  },
  {
   "cell_type": "code",
   "execution_count": 114,
   "id": "4e16bb83-5231-4b08-8e2c-a1eeed9ca511",
   "metadata": {},
   "outputs": [
    {
     "data": {
      "text/html": [
       "<div>\n",
       "<style scoped>\n",
       "    .dataframe tbody tr th:only-of-type {\n",
       "        vertical-align: middle;\n",
       "    }\n",
       "\n",
       "    .dataframe tbody tr th {\n",
       "        vertical-align: top;\n",
       "    }\n",
       "\n",
       "    .dataframe thead th {\n",
       "        text-align: right;\n",
       "    }\n",
       "</style>\n",
       "<table border=\"1\" class=\"dataframe\">\n",
       "  <thead>\n",
       "    <tr style=\"text-align: right;\">\n",
       "      <th></th>\n",
       "      <th>orders</th>\n",
       "      <th>scores</th>\n",
       "    </tr>\n",
       "  </thead>\n",
       "  <tbody>\n",
       "    <tr>\n",
       "      <th>0</th>\n",
       "      <td>1</td>\n",
       "      <td>-1.521066e-02</td>\n",
       "    </tr>\n",
       "    <tr>\n",
       "      <th>1</th>\n",
       "      <td>2</td>\n",
       "      <td>-4.701752e-02</td>\n",
       "    </tr>\n",
       "    <tr>\n",
       "      <th>2</th>\n",
       "      <td>3</td>\n",
       "      <td>-8.600535e-02</td>\n",
       "    </tr>\n",
       "    <tr>\n",
       "      <th>3</th>\n",
       "      <td>4</td>\n",
       "      <td>-9.717596e-02</td>\n",
       "    </tr>\n",
       "    <tr>\n",
       "      <th>4</th>\n",
       "      <td>5</td>\n",
       "      <td>-5.089662e-02</td>\n",
       "    </tr>\n",
       "    <tr>\n",
       "      <th>5</th>\n",
       "      <td>6</td>\n",
       "      <td>-8.583537e-02</td>\n",
       "    </tr>\n",
       "    <tr>\n",
       "      <th>6</th>\n",
       "      <td>7</td>\n",
       "      <td>-8.495494e-02</td>\n",
       "    </tr>\n",
       "    <tr>\n",
       "      <th>7</th>\n",
       "      <td>8</td>\n",
       "      <td>-9.145631e-02</td>\n",
       "    </tr>\n",
       "    <tr>\n",
       "      <th>8</th>\n",
       "      <td>9</td>\n",
       "      <td>-1.252150e-01</td>\n",
       "    </tr>\n",
       "    <tr>\n",
       "      <th>9</th>\n",
       "      <td>10</td>\n",
       "      <td>-1.744705e-01</td>\n",
       "    </tr>\n",
       "    <tr>\n",
       "      <th>10</th>\n",
       "      <td>11</td>\n",
       "      <td>-1.697819e-01</td>\n",
       "    </tr>\n",
       "    <tr>\n",
       "      <th>11</th>\n",
       "      <td>12</td>\n",
       "      <td>-2.203875e-01</td>\n",
       "    </tr>\n",
       "    <tr>\n",
       "      <th>12</th>\n",
       "      <td>13</td>\n",
       "      <td>-2.134280e-01</td>\n",
       "    </tr>\n",
       "    <tr>\n",
       "      <th>13</th>\n",
       "      <td>14</td>\n",
       "      <td>-2.102067e-01</td>\n",
       "    </tr>\n",
       "    <tr>\n",
       "      <th>14</th>\n",
       "      <td>15</td>\n",
       "      <td>-2.030827e-01</td>\n",
       "    </tr>\n",
       "    <tr>\n",
       "      <th>15</th>\n",
       "      <td>16</td>\n",
       "      <td>3.626584e-02</td>\n",
       "    </tr>\n",
       "    <tr>\n",
       "      <th>16</th>\n",
       "      <td>17</td>\n",
       "      <td>1.249290e-01</td>\n",
       "    </tr>\n",
       "    <tr>\n",
       "      <th>17</th>\n",
       "      <td>18</td>\n",
       "      <td>5.371604e-02</td>\n",
       "    </tr>\n",
       "    <tr>\n",
       "      <th>18</th>\n",
       "      <td>19</td>\n",
       "      <td>-4.446253e-02</td>\n",
       "    </tr>\n",
       "    <tr>\n",
       "      <th>19</th>\n",
       "      <td>20</td>\n",
       "      <td>-1.057174e-01</td>\n",
       "    </tr>\n",
       "    <tr>\n",
       "      <th>20</th>\n",
       "      <td>21</td>\n",
       "      <td>-2.740867e-01</td>\n",
       "    </tr>\n",
       "    <tr>\n",
       "      <th>21</th>\n",
       "      <td>22</td>\n",
       "      <td>-5.508313e-01</td>\n",
       "    </tr>\n",
       "    <tr>\n",
       "      <th>22</th>\n",
       "      <td>23</td>\n",
       "      <td>-1.165957e+00</td>\n",
       "    </tr>\n",
       "    <tr>\n",
       "      <th>23</th>\n",
       "      <td>24</td>\n",
       "      <td>-1.777364e+36</td>\n",
       "    </tr>\n",
       "    <tr>\n",
       "      <th>24</th>\n",
       "      <td>25</td>\n",
       "      <td>-2.253779e+02</td>\n",
       "    </tr>\n",
       "    <tr>\n",
       "      <th>25</th>\n",
       "      <td>26</td>\n",
       "      <td>-7.007981e+00</td>\n",
       "    </tr>\n",
       "    <tr>\n",
       "      <th>26</th>\n",
       "      <td>27</td>\n",
       "      <td>-1.011722e+03</td>\n",
       "    </tr>\n",
       "    <tr>\n",
       "      <th>27</th>\n",
       "      <td>28</td>\n",
       "      <td>-6.788638e+02</td>\n",
       "    </tr>\n",
       "    <tr>\n",
       "      <th>28</th>\n",
       "      <td>29</td>\n",
       "      <td>-4.086004e+00</td>\n",
       "    </tr>\n",
       "    <tr>\n",
       "      <th>29</th>\n",
       "      <td>30</td>\n",
       "      <td>-6.370961e+02</td>\n",
       "    </tr>\n",
       "  </tbody>\n",
       "</table>\n",
       "</div>"
      ],
      "text/plain": [
       "    orders        scores\n",
       "0        1 -1.521066e-02\n",
       "1        2 -4.701752e-02\n",
       "2        3 -8.600535e-02\n",
       "3        4 -9.717596e-02\n",
       "4        5 -5.089662e-02\n",
       "5        6 -8.583537e-02\n",
       "6        7 -8.495494e-02\n",
       "7        8 -9.145631e-02\n",
       "8        9 -1.252150e-01\n",
       "9       10 -1.744705e-01\n",
       "10      11 -1.697819e-01\n",
       "11      12 -2.203875e-01\n",
       "12      13 -2.134280e-01\n",
       "13      14 -2.102067e-01\n",
       "14      15 -2.030827e-01\n",
       "15      16  3.626584e-02\n",
       "16      17  1.249290e-01\n",
       "17      18  5.371604e-02\n",
       "18      19 -4.446253e-02\n",
       "19      20 -1.057174e-01\n",
       "20      21 -2.740867e-01\n",
       "21      22 -5.508313e-01\n",
       "22      23 -1.165957e+00\n",
       "23      24 -1.777364e+36\n",
       "24      25 -2.253779e+02\n",
       "25      26 -7.007981e+00\n",
       "26      27 -1.011722e+03\n",
       "27      28 -6.788638e+02\n",
       "28      29 -4.086004e+00\n",
       "29      30 -6.370961e+02"
      ]
     },
     "execution_count": 114,
     "metadata": {},
     "output_type": "execute_result"
    }
   ],
   "source": [
    "results"
   ]
  }
 ],
 "metadata": {
  "kernelspec": {
   "display_name": "Python 3 (ipykernel)",
   "language": "python",
   "name": "python3"
  },
  "language_info": {
   "codemirror_mode": {
    "name": "ipython",
    "version": 3
   },
   "file_extension": ".py",
   "mimetype": "text/x-python",
   "name": "python",
   "nbconvert_exporter": "python",
   "pygments_lexer": "ipython3",
   "version": "3.9.7"
  }
 },
 "nbformat": 4,
 "nbformat_minor": 5
}
